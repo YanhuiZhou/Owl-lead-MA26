{
 "cells": [
  {
   "cell_type": "code",
   "execution_count": 2,
   "metadata": {},
   "outputs": [],
   "source": [
    "import mysql.connector"
   ]
  },
  {
   "cell_type": "code",
   "execution_count": 3,
   "metadata": {},
   "outputs": [
    {
     "name": "stdout",
     "output_type": "stream",
     "text": [
      "<mysql.connector.connection.MySQLConnection object at 0x0000022C297C6948>\n"
     ]
    }
   ],
   "source": [
    "mydb = mysql.connector.connect(\n",
    "  host=\"wordpress.ckoizwonzrvu.us-east-2.rds.amazonaws.com\",\n",
    "  user=\"david\",\n",
    "  password=\"owlleadma26\",\n",
    "  database=\"wordpress\"\n",
    ")\n",
    "\n",
    "print(mydb)\n",
    "\n",
    "mycursor = mydb.cursor()\n",
    "\n",
    "mycursor.execute(\"SHOW DATABASES\")"
   ]
  },
  {
   "cell_type": "code",
   "execution_count": 4,
   "metadata": {
    "scrolled": false
   },
   "outputs": [
    {
     "name": "stdout",
     "output_type": "stream",
     "text": [
      "('information_schema',)\n",
      "('wordpress',)\n"
     ]
    }
   ],
   "source": [
    "for x in mycursor:\n",
    "    print(x)"
   ]
  },
  {
   "cell_type": "code",
   "execution_count": 5,
   "metadata": {},
   "outputs": [],
   "source": [
    "mycursor.execute(\"CREATE TABLE customers (name VARCHAR(255), address VARCHAR(255))\")"
   ]
  },
  {
   "cell_type": "code",
   "execution_count": 6,
   "metadata": {},
   "outputs": [],
   "source": [
    "mycursor.execute(\"SHOW TABLES\")"
   ]
  },
  {
   "cell_type": "code",
   "execution_count": 7,
   "metadata": {},
   "outputs": [
    {
     "name": "stdout",
     "output_type": "stream",
     "text": [
      "('customers',)\n",
      "('pd_cnts',)\n",
      "('pd_cnts_snsrs',)\n",
      "('wp_actionscheduler_actions',)\n",
      "('wp_actionscheduler_claims',)\n",
      "('wp_actionscheduler_groups',)\n",
      "('wp_actionscheduler_logs',)\n",
      "('wp_commentmeta',)\n",
      "('wp_comments',)\n",
      "('wp_gmw_forms',)\n",
      "('wp_gmw_locationmeta',)\n",
      "('wp_gmw_locations',)\n",
      "('wp_links',)\n",
      "('wp_options',)\n",
      "('wp_pmxi_files',)\n",
      "('wp_pmxi_hash',)\n",
      "('wp_pmxi_history',)\n",
      "('wp_pmxi_images',)\n",
      "('wp_pmxi_imports',)\n",
      "('wp_pmxi_posts',)\n",
      "('wp_pmxi_templates',)\n",
      "('wp_postmeta',)\n",
      "('wp_posts',)\n",
      "('wp_term_relationships',)\n",
      "('wp_term_taxonomy',)\n",
      "('wp_termmeta',)\n",
      "('wp_terms',)\n",
      "('wp_usermeta',)\n",
      "('wp_users',)\n",
      "('wp_wpforms_tasks_meta',)\n",
      "('wp_wpgmza',)\n",
      "('wp_wpgmza_circles',)\n",
      "('wp_wpgmza_maps',)\n",
      "('wp_wpgmza_polygon',)\n",
      "('wp_wpgmza_polylines',)\n",
      "('wp_wpgmza_rectangles',)\n"
     ]
    }
   ],
   "source": [
    "for x in mycursor:\n",
    "    print(x)"
   ]
  },
  {
   "cell_type": "code",
   "execution_count": 8,
   "metadata": {},
   "outputs": [
    {
     "name": "stdout",
     "output_type": "stream",
     "text": [
      "1 record inserted.\n"
     ]
    }
   ],
   "source": [
    "sql = \"INSERT INTO customers (name, address) VALUES (%s, %s)\"\n",
    "val = (\"John\", \"Highway 21\")\n",
    "mycursor.execute(sql, val)\n",
    "\n",
    "mydb.commit()\n",
    "\n",
    "print(mycursor.rowcount, \"record inserted.\")"
   ]
  },
  {
   "cell_type": "code",
   "execution_count": 13,
   "metadata": {},
   "outputs": [
    {
     "data": {
      "text/html": [
       "<div>\n",
       "<style scoped>\n",
       "    .dataframe tbody tr th:only-of-type {\n",
       "        vertical-align: middle;\n",
       "    }\n",
       "\n",
       "    .dataframe tbody tr th {\n",
       "        vertical-align: top;\n",
       "    }\n",
       "\n",
       "    .dataframe thead th {\n",
       "        text-align: right;\n",
       "    }\n",
       "</style>\n",
       "<table border=\"1\" class=\"dataframe\">\n",
       "  <thead>\n",
       "    <tr style=\"text-align: right;\">\n",
       "      <th></th>\n",
       "      <th>NAME_LABEL</th>\n",
       "      <th>LATITUDE</th>\n",
       "      <th>LONGITUDE</th>\n",
       "    </tr>\n",
       "  </thead>\n",
       "  <tbody>\n",
       "    <tr>\n",
       "      <th>0</th>\n",
       "      <td>Moonee Ponds Police Station</td>\n",
       "      <td>-37.764712</td>\n",
       "      <td>144.924078</td>\n",
       "    </tr>\n",
       "    <tr>\n",
       "      <th>1</th>\n",
       "      <td>Flemington Police Station</td>\n",
       "      <td>-37.785119</td>\n",
       "      <td>144.932150</td>\n",
       "    </tr>\n",
       "    <tr>\n",
       "      <th>2</th>\n",
       "      <td>Footscray Police Station</td>\n",
       "      <td>-37.803867</td>\n",
       "      <td>144.901373</td>\n",
       "    </tr>\n",
       "    <tr>\n",
       "      <th>3</th>\n",
       "      <td>Brunswick Police Station</td>\n",
       "      <td>-37.762813</td>\n",
       "      <td>144.963069</td>\n",
       "    </tr>\n",
       "    <tr>\n",
       "      <th>4</th>\n",
       "      <td>Melbourne East Police Station</td>\n",
       "      <td>-37.812847</td>\n",
       "      <td>144.967261</td>\n",
       "    </tr>\n",
       "  </tbody>\n",
       "</table>\n",
       "</div>"
      ],
      "text/plain": [
       "                      NAME_LABEL   LATITUDE   LONGITUDE\n",
       "0    Moonee Ponds Police Station -37.764712  144.924078\n",
       "1      Flemington Police Station -37.785119  144.932150\n",
       "2       Footscray Police Station -37.803867  144.901373\n",
       "3       Brunswick Police Station -37.762813  144.963069\n",
       "4  Melbourne East Police Station -37.812847  144.967261"
      ]
     },
     "execution_count": 13,
     "metadata": {},
     "output_type": "execute_result"
    }
   ],
   "source": [
    "import pandas as pd\n",
    "police = pd.read_csv('POLICE_STATION.csv', index_col=False, delimiter = ',')\n",
    "police.head()\n",
    "target = [\"NAME_LABEL\",\"LATITUDE\", \"LONGITUDE\"]\n",
    "ps = police[target]\n",
    "ps.head()"
   ]
  },
  {
   "cell_type": "code",
   "execution_count": 14,
   "metadata": {},
   "outputs": [
    {
     "data": {
      "text/html": [
       "<div>\n",
       "<style scoped>\n",
       "    .dataframe tbody tr th:only-of-type {\n",
       "        vertical-align: middle;\n",
       "    }\n",
       "\n",
       "    .dataframe tbody tr th {\n",
       "        vertical-align: top;\n",
       "    }\n",
       "\n",
       "    .dataframe thead th {\n",
       "        text-align: right;\n",
       "    }\n",
       "</style>\n",
       "<table border=\"1\" class=\"dataframe\">\n",
       "  <thead>\n",
       "    <tr style=\"text-align: right;\">\n",
       "      <th></th>\n",
       "      <th>STOP_NAME</th>\n",
       "      <th>LATITUDE</th>\n",
       "      <th>LONGITUDE</th>\n",
       "    </tr>\n",
       "  </thead>\n",
       "  <tbody>\n",
       "    <tr>\n",
       "      <th>0</th>\n",
       "      <td>Richmond Railway Station (Richmond)</td>\n",
       "      <td>-37.824074</td>\n",
       "      <td>144.990164</td>\n",
       "    </tr>\n",
       "    <tr>\n",
       "      <th>1</th>\n",
       "      <td>Hawthorn Railway Station (Hawthorn)</td>\n",
       "      <td>-37.821826</td>\n",
       "      <td>145.022899</td>\n",
       "    </tr>\n",
       "    <tr>\n",
       "      <th>2</th>\n",
       "      <td>Glenferrie Railway Station (Hawthorn)</td>\n",
       "      <td>-37.821467</td>\n",
       "      <td>145.036439</td>\n",
       "    </tr>\n",
       "    <tr>\n",
       "      <th>3</th>\n",
       "      <td>Jolimont-MCG Railway Station (East Melbourne)</td>\n",
       "      <td>-37.816527</td>\n",
       "      <td>144.984098</td>\n",
       "    </tr>\n",
       "    <tr>\n",
       "      <th>4</th>\n",
       "      <td>West Richmond Railway Station (Richmond)</td>\n",
       "      <td>-37.814949</td>\n",
       "      <td>144.991423</td>\n",
       "    </tr>\n",
       "  </tbody>\n",
       "</table>\n",
       "</div>"
      ],
      "text/plain": [
       "                                       STOP_NAME   LATITUDE   LONGITUDE\n",
       "0            Richmond Railway Station (Richmond) -37.824074  144.990164\n",
       "1            Hawthorn Railway Station (Hawthorn) -37.821826  145.022899\n",
       "2          Glenferrie Railway Station (Hawthorn) -37.821467  145.036439\n",
       "3  Jolimont-MCG Railway Station (East Melbourne) -37.816527  144.984098\n",
       "4       West Richmond Railway Station (Richmond) -37.814949  144.991423"
      ]
     },
     "execution_count": 14,
     "metadata": {},
     "output_type": "execute_result"
    }
   ],
   "source": [
    "public = pd.read_csv('PTV_METRO_TRAIN_STATION.csv', index_col=False, delimiter = ',')\n",
    "public.head()\n",
    "target = [\"STOP_NAME\", \"LATITUDE\", \"LONGITUDE\"]\n",
    "pt = public[target]\n",
    "pt.head()"
   ]
  },
  {
   "cell_type": "code",
   "execution_count": null,
   "metadata": {},
   "outputs": [],
   "source": [
    "try:\n",
    "    mydb = mysql.connector.connect(\n",
    "                      host=\"wordpress.ckoizwonzrvu.us-east-2.rds.amazonaws.com\",\n",
    "                      user=\"david\",\n",
    "                      password=\"owlleadma26\",\n",
    "                      database=\"wordpress\"\n",
    ")\n",
    "    if mydb.is_connected():\n",
    "        cursor = mydb.cursor()\n",
    "        print(\"You're connected to database: \", record)\n",
    "        cursor.execute('DROP TABLE IF EXISTS employee_data;')\n",
    "        print('Creating table....')\n",
    "# in the below line please pass the create table statement which you want #to create\n",
    "        cursor.execute(\"CREATE TABLE employee_data(first_name varchar(255),last_name varchar(255),company_name varchar(255),address varchar(255),city varchar(255),county varchar(255),state varchar(255),zip int,phone1 varchar(255),phone2 varchar(255),email varchar(255),web varchar(255))\")\n",
    "        print(\"Table is created....\")\n",
    "        #loop through the data frame\n",
    "        for i,row in empdata.iterrows():\n",
    "            #here %S means string values \n",
    "            sql = \"INSERT INTO employee.employee_data VALUES (%s,%s,%s,%s,%s,%s,%s,%s,%s,%s,%s,%s)\"\n",
    "            cursor.execute(sql, tuple(row))\n",
    "            print(\"Record inserted\")\n",
    "            # the connection is not auto committed by default, so we must commit to save our changes\n",
    "            conn.commit()\n",
    "except Error as e:\n",
    "            print(\"Error while connecting to MySQL\", e)"
   ]
  },
  {
   "cell_type": "code",
   "execution_count": 17,
   "metadata": {},
   "outputs": [
    {
     "name": "stdout",
     "output_type": "stream",
     "text": [
      "Creating table....\n",
      "Table is created....\n",
      "Record inserted\n",
      "Record inserted\n",
      "Record inserted\n",
      "Record inserted\n",
      "Record inserted\n",
      "Record inserted\n",
      "Record inserted\n",
      "Record inserted\n",
      "Record inserted\n",
      "Record inserted\n",
      "Record inserted\n",
      "Record inserted\n",
      "Record inserted\n",
      "Record inserted\n",
      "Record inserted\n",
      "Record inserted\n",
      "Record inserted\n",
      "Record inserted\n",
      "Record inserted\n",
      "Record inserted\n",
      "Record inserted\n",
      "Record inserted\n",
      "Record inserted\n"
     ]
    }
   ],
   "source": [
    "mycursor.execute('DROP TABLE IF EXISTS police_station;')\n",
    "print('Creating table....')\n",
    "mycursor.execute(\"CREATE TABLE police_station(station_name varchar(255),latitude varchar(255),longitude varchar(255))\")\n",
    "print(\"Table is created....\")\n",
    "#loop through the data frame\n",
    "for i,row in ps.iterrows():\n",
    "    sql = \"INSERT INTO police_station VALUES (%s,%s,%s)\"\n",
    "    mycursor.execute(sql, tuple(row))\n",
    "    print(\"Record inserted\")\n",
    "    mydb.commit()"
   ]
  },
  {
   "cell_type": "code",
   "execution_count": 18,
   "metadata": {},
   "outputs": [
    {
     "name": "stdout",
     "output_type": "stream",
     "text": [
      "Creating table....\n",
      "Table is created....\n",
      "Record inserted\n",
      "Record inserted\n",
      "Record inserted\n",
      "Record inserted\n",
      "Record inserted\n",
      "Record inserted\n",
      "Record inserted\n",
      "Record inserted\n",
      "Record inserted\n",
      "Record inserted\n",
      "Record inserted\n",
      "Record inserted\n",
      "Record inserted\n",
      "Record inserted\n",
      "Record inserted\n",
      "Record inserted\n",
      "Record inserted\n",
      "Record inserted\n",
      "Record inserted\n",
      "Record inserted\n",
      "Record inserted\n",
      "Record inserted\n",
      "Record inserted\n",
      "Record inserted\n",
      "Record inserted\n",
      "Record inserted\n",
      "Record inserted\n",
      "Record inserted\n",
      "Record inserted\n",
      "Record inserted\n",
      "Record inserted\n",
      "Record inserted\n",
      "Record inserted\n",
      "Record inserted\n",
      "Record inserted\n",
      "Record inserted\n"
     ]
    }
   ],
   "source": [
    "mycursor.execute('DROP TABLE IF EXISTS ptv_station;')\n",
    "print('Creating table....')\n",
    "mycursor.execute(\"CREATE TABLE ptv_station(station_name varchar(255),latitude varchar(255),longitude varchar(255))\")\n",
    "print(\"Table is created....\")\n",
    "#loop through the data frame\n",
    "for i,row in pt.iterrows():\n",
    "    sql = \"INSERT INTO ptv_station VALUES (%s,%s,%s)\"\n",
    "    mycursor.execute(sql, tuple(row))\n",
    "    print(\"Record inserted\")\n",
    "    mydb.commit()"
   ]
  },
  {
   "cell_type": "code",
   "execution_count": 19,
   "metadata": {},
   "outputs": [],
   "source": [
    "mydb.close()"
   ]
  },
  {
   "cell_type": "code",
   "execution_count": null,
   "metadata": {},
   "outputs": [],
   "source": []
  }
 ],
 "metadata": {
  "kernelspec": {
   "display_name": "Python 3",
   "language": "python",
   "name": "python3"
  },
  "language_info": {
   "codemirror_mode": {
    "name": "ipython",
    "version": 3
   },
   "file_extension": ".py",
   "mimetype": "text/x-python",
   "name": "python",
   "nbconvert_exporter": "python",
   "pygments_lexer": "ipython3",
   "version": "3.7.6"
  }
 },
 "nbformat": 4,
 "nbformat_minor": 4
}
