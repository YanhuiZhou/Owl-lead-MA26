{
 "cells": [
  {
   "cell_type": "code",
   "execution_count": 1,
   "metadata": {},
   "outputs": [],
   "source": [
    "from sodapy import Socrata\n",
    "import pandas as pd\n",
    "import mysql.connector as mysql"
   ]
  },
  {
   "cell_type": "code",
   "execution_count": 3,
   "metadata": {},
   "outputs": [],
   "source": [
    "#function to connect ot mysql \n",
    "def connect_db(db_name , host , user , password):\n",
    "    try:\n",
    "        db = mysql.connect(\n",
    "            host = host,\n",
    "            user = user,\n",
    "            password = password,\n",
    "            database = db_name\n",
    "        )\n",
    "        \n",
    "        return db\n",
    "    except:\n",
    "        print(\"could not access the database\")"
   ]
  },
  {
   "cell_type": "code",
   "execution_count": 16,
   "metadata": {},
   "outputs": [],
   "source": [
    "def create_tables(cursor):\n",
    "    cursor.execute(\"SHOW TABLES\")\n",
    "    current_tables = list(cursor)\n",
    "    current_tables = list(map(lambda x:x[0] , current_tables))\n",
    "    if \"pd_cnts_snsrs\" not in current_tables:\n",
    "        Q1 = '''CREATE TABLE pd_cnts_snsrs(sensor_id INT PRIMARY KEY, \n",
    "            place VARCHAR(100), \n",
    "            lattitude FLOAT, \n",
    "            longitude FLOAT)\n",
    "            '''\n",
    "        \n",
    "        cursor.execute(Q1)\n",
    "        print(\"pd_cnts_snsrs table created\")\n",
    "    else:\n",
    "        print(\"pd_cnts_snsrs table already exists\")\n",
    "        \n",
    "    if \"pd_cnts\" not in current_tables:\n",
    "        Q2 = '''CREATE TABLE pd_cnts(\n",
    "        sensor_id INT , \n",
    "        pedestrian_count INT , \n",
    "        date_time DATETIME ,\n",
    "        PRIMARY KEY(sensor_id , date_time))'''\n",
    "        \n",
    "        Q3 = \"ALTER TABLE pd_cnts ADD FOREIGN KEY(sensor_id) REFERENCES pd_cnts_snsrs(sensor_id)\"\n",
    "        cursor.execute(Q2)\n",
    "        cursor.execute(Q3)\n",
    "        print(\"pd_cnts table created\")\n",
    "    else : \n",
    "        print(\"pd_cnts already exists\")"
   ]
  },
  {
   "cell_type": "code",
   "execution_count": 17,
   "metadata": {},
   "outputs": [],
   "source": [
    "def populate_sensors(cursor , access_token = \"RrWl8vIygHuQlviEbWq1TD5zC\" ):\n",
    "    client = Socrata(\"data.melbourne.vic.gov.au\", access_token)\n",
    "    results = client.get(\"h57g-5234\")\n",
    "    results_df = pd.DataFrame.from_records(results)\n",
    "    sensors = results_df[[\"sensor_id\" , \"sensor_description\" , \"latitude\" , \"longitude\"]]\n",
    "    # sensors.iloc[:,0] = sensors.sensor_id.astype(\"int\")\n",
    "    # sensors.iloc[:,1] = sensors.sensor_description.astype(\"str\")\n",
    "    # sensors.iloc[:,2] = sensors.latitude.astype(\"float\")\n",
    "    # sensors.iloc[:,3] = sensors.longitude.astype(\"float\")\n",
    "    sensors_list = [tuple(x) for x in sensors.to_numpy()]\n",
    "\n",
    "    Q4 = \"INSERT INTO pd_cnts_snsrs(sensor_id , place, lattitude , longitude) VALUES (%s , %s , %s , %s)\"\n",
    "    cursor.executemany(Q4 , sensors_list)\n",
    "    print(\"successfully added data to pd_cnts_snsrs table \")\n",
    "    return 1"
   ]
  },
  {
   "cell_type": "code",
   "execution_count": 18,
   "metadata": {},
   "outputs": [],
   "source": [
    "def populate_sensors_data(cursor , access_token = \"RrWl8vIygHuQlviEbWq1TD5zC\"):\n",
    "    client = Socrata(\"data.melbourne.vic.gov.au\",access_token)\n",
    "    results = client.get(\"d6mv-s43h\")\n",
    "    results_df = pd.DataFrame.from_records(results)\n",
    "    sensor_data = results_df[[\"sensor_id\"  , \"total_of_directions\" , \"date_time\"]]\n",
    "    sensors_data_list = [tuple(x) for x in sensor_data.to_numpy()]\n",
    "    \n",
    "    Q5 = \"INSERT INTO pd_cnts(sensor_id , pedestrian_count , date_time) VALUES (%s, %s , %s)\"\n",
    "    cursor.executemany(Q5 , sensors_data_list)\n",
    "    print(\"successfully added data to pd_cnts table\")"
   ]
  },
  {
   "cell_type": "code",
   "execution_count": 19,
   "metadata": {},
   "outputs": [
    {
     "name": "stdout",
     "output_type": "stream",
     "text": [
      "pd_cnts_snsrs table already exists\n",
      "pd_cnts already exists\n",
      "successfully added data to pd_cnts_snsrs table \n",
      "successfully added data to pd_cnts table\n"
     ]
    }
   ],
   "source": [
    "# db = connect_db(\"wordpress\" , \"wordpress.ckoizwonzrvu.us-east-2.rds.amazonaws.com\" , \"admin\", \"owlleadma26\")\n",
    "# cursor = db.cursor()\n",
    "create_tables(cursor)\n",
    "populate_sensors(cursor)\n",
    "populate_sensors_data(cursor)"
   ]
  },
  {
   "cell_type": "code",
   "execution_count": 22,
   "metadata": {},
   "outputs": [],
   "source": [
    "cursor.execute('''SELECT  pd_cnts_snsrs.place , AVG(pd_cnts.pedestrian_count) as avg_count\n",
    "FROM pd_cnts\n",
    "INNER JOIN pd_cnts_snsrs on pd_cnts.sensor_id = pd_cnts_snsrs.sensor_id\n",
    "GROUP BY pd_cnts_snsrs.place \n",
    "ORDER BY avg_count DESC''')\n",
    "ans = list(cursor)\n"
   ]
  },
  {
   "cell_type": "code",
   "execution_count": 26,
   "metadata": {},
   "outputs": [
    {
     "data": {
      "text/plain": [
       "[('pd_cnts',),\n",
       " ('pd_cnts_snsrs',),\n",
       " ('wp_actionscheduler_actions',),\n",
       " ('wp_actionscheduler_claims',),\n",
       " ('wp_actionscheduler_groups',),\n",
       " ('wp_actionscheduler_logs',),\n",
       " ('wp_commentmeta',),\n",
       " ('wp_comments',),\n",
       " ('wp_links',),\n",
       " ('wp_options',),\n",
       " ('wp_pmxi_files',),\n",
       " ('wp_pmxi_hash',),\n",
       " ('wp_pmxi_history',),\n",
       " ('wp_pmxi_images',),\n",
       " ('wp_pmxi_imports',),\n",
       " ('wp_pmxi_posts',),\n",
       " ('wp_pmxi_templates',),\n",
       " ('wp_postmeta',),\n",
       " ('wp_posts',),\n",
       " ('wp_term_relationships',),\n",
       " ('wp_term_taxonomy',),\n",
       " ('wp_termmeta',),\n",
       " ('wp_terms',),\n",
       " ('wp_usermeta',),\n",
       " ('wp_users',),\n",
       " ('wp_wpforms_tasks_meta',)]"
      ]
     },
     "execution_count": 26,
     "metadata": {},
     "output_type": "execute_result"
    }
   ],
   "source": [
    "cursor.execute(\"SHOW TABLES\")\n",
    "list(cursor)"
   ]
  },
  {
   "cell_type": "code",
   "execution_count": 17,
   "metadata": {},
   "outputs": [
    {
     "data": {
      "text/plain": [
       "[(1, 'Bourke Street Mall (North)', -37.8135, 144.965),\n",
       " (2, 'Bourke Street Mall (South)', -37.8138, 144.965),\n",
       " (3, 'Melbourne Central', -37.811, 144.964),\n",
       " (4, 'Town Hall (West)', -37.8149, 144.966),\n",
       " (5, 'Princes Bridge', -37.8187, 144.968),\n",
       " (6, 'Flinders Street Station Underpass', -37.8191, 144.966),\n",
       " (7, 'Birrarung Marr', -37.8186, 144.972),\n",
       " (8, 'Webb Bridge', -37.8229, 144.947),\n",
       " (9, 'Southern Cross Station', -37.8198, 144.951),\n",
       " (10, 'Victoria Point', -37.8188, 144.947),\n",
       " (11, 'Waterfront City', -37.8157, 144.94),\n",
       " (12, 'New Quay', -37.8146, 144.943),\n",
       " (13, 'Flagstaff Station', -37.8124, 144.957),\n",
       " (14, 'Sandridge Bridge', -37.8201, 144.963),\n",
       " (15, 'State Library', -37.8106, 144.964),\n",
       " (16, 'Australia on Collins', -37.8157, 144.965),\n",
       " (17, 'Collins Place (South)', -37.8136, 144.973),\n",
       " (18, 'Collins Place (North)', -37.8134, 144.973),\n",
       " (19, 'Chinatown-Swanston St (North)', -37.8124, 144.965),\n",
       " (20, 'Chinatown-Lt Bourke St (South)', -37.8117, 144.968),\n",
       " (21, 'Bourke St-Russell St (West)', -37.8124, 144.968),\n",
       " (22, 'Flinders St-Elizabeth St (East)', -37.8179, 144.965),\n",
       " (23, 'Spencer St-Collins St (South)', -37.8191, 144.955),\n",
       " (24, 'Spencer St-Collins St (North)', -37.8189, 144.954),\n",
       " (25, 'Melbourne Convention Exhibition Centre', -37.824, 144.956),\n",
       " (26, 'QV Market-Elizabeth St (West)', -37.8087, 144.96),\n",
       " (27, 'QV Market-Peel St', -37.8061, 144.956),\n",
       " (28, 'The Arts Centre', -37.8213, 144.969),\n",
       " (29, 'St Kilda Rd-Alexandra Gardens', -37.8197, 144.969),\n",
       " (30, 'Lonsdale St (South)', -37.8112, 144.967),\n",
       " (31, 'Lygon St (West)', -37.8017, 144.967),\n",
       " (32, 'City Square', -37.8157, 144.967),\n",
       " (33, 'Flinders St-Spring St (West)', -37.8148, 144.975),\n",
       " (34, 'Flinders St-Spark La', -37.8154, 144.974),\n",
       " (35, 'Southbank', -37.8202, 144.965),\n",
       " (36, 'Queen St (West)', -37.8165, 144.961),\n",
       " (37, 'Lygon St (East)', -37.8031, 144.967),\n",
       " (38, 'Flinders St-Swanston St (West)', -37.8172, 144.967),\n",
       " (39, 'Alfred Place', -37.8138, 144.97),\n",
       " (40, 'Lonsdale St-Spring St (West)', -37.81, 144.972),\n",
       " (41, 'Flinders La-Swanston St (West)', -37.8167, 144.967),\n",
       " (42, 'Grattan St-Swanston St (West)', -37.8001, 144.964),\n",
       " (43, 'Monash Rd-Swanston St (West)', -37.7984, 144.964),\n",
       " (44, 'Tin Alley-Swanston St (West)', -37.7969, 144.964),\n",
       " (45, 'Little Collins St-Swanston St (East)', -37.8141, 144.966),\n",
       " (46, 'Pelham St (South)', -37.8024, 144.962),\n",
       " (47, 'Melbourne Central-Elizabeth St (East)', -37.8116, 144.962),\n",
       " (48, 'QVM-Queen St (East)', -37.8063, 144.959),\n",
       " (49, 'QVM-Therry St (South)', -37.8073, 144.96),\n",
       " (50, 'Faraday St-Lygon St (West)', -37.7981, 144.967),\n",
       " (51, 'QVM-Franklin St (North)', -37.8084, 144.959),\n",
       " (52, 'Elizabeth St-Lonsdale St (South)', -37.8125, 144.962),\n",
       " (53, 'Collins Street (North)', -37.8156, 144.965),\n",
       " (54, 'Lincoln-Swanston (West)', -37.804, 144.963),\n",
       " (55, 'Elizabeth St-La Trobe St (East)', -37.8099, 144.961),\n",
       " (56, 'Lonsdale St - Elizabeth St (North)', -37.8123, 144.962),\n",
       " (57, 'Bourke St Bridge', -37.8177, 144.95),\n",
       " (58, 'Bourke St - Spencer St (North)', -37.8169, 144.954),\n",
       " (59, 'Building 80 RMIT', -37.8083, 144.963),\n",
       " (60, 'Flinders La - Swanston St (West) Temporary', -37.8167, 144.967),\n",
       " (61, 'RMIT Building 14', -37.8077, 144.963),\n",
       " (62, 'La Trobe St (North)', -37.81, 144.962),\n",
       " (63, '231 Bourke St', -37.8133, 144.967),\n",
       " (64, 'Royal Pde - Grattan St', -37.7995, 144.958),\n",
       " (65, 'Swanston St - City Square', -37.8157, 144.967),\n",
       " (66, 'State Library - New', -37.8106, 144.964),\n",
       " (67, 'Flinders Ln -Degraves St (South)', -37.8169, 144.966),\n",
       " (68, 'Flinders Ln -Degraves St (North)', -37.8168, 144.966),\n",
       " (69, 'Flinders Ln -Degraves St (Crossing)', -37.8169, 144.966),\n",
       " (70, 'Errol Street (East)', -37.8046, 144.949),\n",
       " (71, 'Westwood Place', -37.8124, 144.971),\n",
       " (72, 'Flinders St- ACMI', -37.8173, 144.969),\n",
       " (73, 'Bourke St - Spencer St (South)', -37.817, 144.954),\n",
       " (75, 'Spring St- Flinders st (West)', -37.8152, 144.975),\n",
       " (76, 'Macaulay Rd- Bellair St', -37.7945, 144.93)]"
      ]
     },
     "execution_count": 17,
     "metadata": {},
     "output_type": "execute_result"
    }
   ],
   "source": [
    "cursor.execute(\"SELECT * from Sensors\")\n",
    "list(cursor)"
   ]
  }
 ],
 "metadata": {
  "kernelspec": {
   "display_name": "Python 3",
   "language": "python",
   "name": "python3"
  },
  "language_info": {
   "codemirror_mode": {
    "name": "ipython",
    "version": 3
   },
   "file_extension": ".py",
   "mimetype": "text/x-python",
   "name": "python",
   "nbconvert_exporter": "python",
   "pygments_lexer": "ipython3",
   "version": "3.7.6"
  }
 },
 "nbformat": 4,
 "nbformat_minor": 4
}
